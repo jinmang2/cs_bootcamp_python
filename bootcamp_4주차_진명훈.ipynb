{
 "cells": [
  {
   "cell_type": "markdown",
   "metadata": {},
   "source": [
    "# OOP\n",
    " ## encapsulation (캡슐화)\n",
    " ## information hiding (정보 은닉)\n",
    " ## polymorphism (다형성)"
   ]
  },
  {
   "cell_type": "markdown",
   "metadata": {},
   "source": [
    "## encapsulation\n",
    " - 관련 있는 변수(데이터)와 함수를 어떤 단위로(Class) 묶는 것\n",
    " - 정보 은닉 포함"
   ]
  },
  {
   "cell_type": "markdown",
   "metadata": {},
   "source": [
    "## 추상화 기법\n",
    " - 절차 지향\n",
    "   - 함수(프로시저, 루틴)\n",
    " - 객체 지향\n",
    "   - 객체를 이용"
   ]
  },
  {
   "cell_type": "markdown",
   "metadata": {},
   "source": [
    "## 절차지향 : 이 프로그램은 무엇을 하는가?\n",
    "## 객체지향 : 실제 존재하는 객체를 프로그램 상에서 어떻게 표현할 것인가?\n",
    "## 모델링 (어떻게 표현할 것인가?)"
   ]
  },
  {
   "cell_type": "markdown",
   "metadata": {},
   "source": [
    "# person class -> instance 생성"
   ]
  },
  {
   "cell_type": "code",
   "execution_count": 11,
   "metadata": {},
   "outputs": [],
   "source": [
    "class Person:\n",
    "    def __init__(self, name, age, money):\n",
    "        # 관련있는 변수 : instance member\n",
    "        self.name = name\n",
    "        self.age = age\n",
    "        self.money = money\n",
    "    # 기능, 행동 -> 함수\n",
    "    # instance method\n",
    "    def get_money(self, money):\n",
    "        self.money += money\n",
    "        \n",
    "    # message passing을 이용한 상호 작용\n",
    "    def give_money(self, other, money):\n",
    "        self.money -= money\n",
    "        # other.money += money -> 문법적으로 오류는 없지만 OOP의 개념과 상반됌. 하지 말 것!\n",
    "        # message passing (상대 메서드에 접근해서 변경해야 함.)\n",
    "        other.get_money(money)\n",
    "    \n",
    "    # __ python 예약 함수\n",
    "    def __str__(self):\n",
    "        return '{} : {}'.format(self.name, self.money)"
   ]
  },
  {
   "cell_type": "code",
   "execution_count": 12,
   "metadata": {},
   "outputs": [],
   "source": [
    "# 객체 or instance\n",
    "# 이 객체는 Person이라는 클래스로 만든 인스턴스다\n",
    "myunghoon = Person(\"명훈\", 25, 1000000)\n",
    "mary = Person(\"마리\", 22, 250000)"
   ]
  },
  {
   "cell_type": "code",
   "execution_count": 10,
   "metadata": {},
   "outputs": [
    {
     "name": "stdout",
     "output_type": "stream",
     "text": [
      "<__main__.Person object at 0x000001B5C025C518>\n"
     ]
    }
   ],
   "source": [
    "# __str__ 설정 전\n",
    "print(mary)"
   ]
  },
  {
   "cell_type": "code",
   "execution_count": 13,
   "metadata": {},
   "outputs": [
    {
     "name": "stdout",
     "output_type": "stream",
     "text": [
      "마리 : 250000\n"
     ]
    }
   ],
   "source": [
    "# __str__ 설정 후\n",
    "print(mary)"
   ]
  },
  {
   "cell_type": "code",
   "execution_count": 7,
   "metadata": {},
   "outputs": [
    {
     "data": {
      "text/plain": [
       "26"
      ]
     },
     "execution_count": 7,
     "metadata": {},
     "output_type": "execute_result"
    }
   ],
   "source": [
    "myunghoon.get_old()"
   ]
  },
  {
   "cell_type": "code",
   "execution_count": 8,
   "metadata": {},
   "outputs": [
    {
     "data": {
      "text/plain": [
       "23"
      ]
     },
     "execution_count": 8,
     "metadata": {},
     "output_type": "execute_result"
    }
   ],
   "source": [
    "mary.get_old()"
   ]
  },
  {
   "cell_type": "markdown",
   "metadata": {},
   "source": [
    "## message passing\n",
    " - 객체 사이에서 상호 작용 >> 객체가 가진 데이터가 서로 변할 때\n",
    " - 반드시 메서드를 호출해서 상호 작용을 해야함\n",
    " - 메서드 내에서 상대 객체의 데이터를 바꿀 때는 \n",
    " - 반드시 상대 객체가 가진 메서드를 호출해서 바꿔야 한다!"
   ]
  },
  {
   "cell_type": "code",
   "execution_count": 14,
   "metadata": {},
   "outputs": [],
   "source": [
    "# method 호출 객체는 알아서 전달하기 때문에 안 넣어도 됌!\n",
    "# 객체 사이의 상호 작용\n",
    "myunghoon.give_money(mary, 250000)"
   ]
  },
  {
   "cell_type": "code",
   "execution_count": 15,
   "metadata": {},
   "outputs": [
    {
     "name": "stdout",
     "output_type": "stream",
     "text": [
      "명훈 : 750000\n"
     ]
    }
   ],
   "source": [
    "print(myunghoon)"
   ]
  },
  {
   "cell_type": "code",
   "execution_count": 16,
   "metadata": {},
   "outputs": [
    {
     "name": "stdout",
     "output_type": "stream",
     "text": [
      "마리 : 500000\n"
     ]
    }
   ],
   "source": [
    "print(mary)"
   ]
  },
  {
   "cell_type": "markdown",
   "metadata": {},
   "source": [
    "## self?"
   ]
  },
  {
   "cell_type": "code",
   "execution_count": 17,
   "metadata": {},
   "outputs": [
    {
     "data": {
      "text/plain": [
       "<function __main__.Person.give_money(self, other, money)>"
      ]
     },
     "execution_count": 17,
     "metadata": {},
     "output_type": "execute_result"
    }
   ],
   "source": [
    "Person.give_money"
   ]
  },
  {
   "cell_type": "code",
   "execution_count": 18,
   "metadata": {},
   "outputs": [
    {
     "data": {
      "text/plain": [
       "<bound method Person.give_money of <__main__.Person object at 0x000001B5C026CF28>>"
      ]
     },
     "execution_count": 18,
     "metadata": {},
     "output_type": "execute_result"
    }
   ],
   "source": [
    "myunghoon.give_money"
   ]
  },
  {
   "cell_type": "code",
   "execution_count": 19,
   "metadata": {},
   "outputs": [
    {
     "data": {
      "text/plain": [
       "True"
      ]
     },
     "execution_count": 19,
     "metadata": {},
     "output_type": "execute_result"
    }
   ],
   "source": [
    "myunghoon.give_money.__func__ is Person.give_money"
   ]
  },
  {
   "cell_type": "code",
   "execution_count": 20,
   "metadata": {},
   "outputs": [
    {
     "data": {
      "text/plain": [
       "True"
      ]
     },
     "execution_count": 20,
     "metadata": {},
     "output_type": "execute_result"
    }
   ],
   "source": [
    "# method는 __self__에 자기를 가리키는 pointer를 가지고 있어서\n",
    "# self에다가 자기가 알아서 대입을 함\n",
    "myunghoon.give_money.__self__ is myunghoon"
   ]
  },
  {
   "cell_type": "markdown",
   "metadata": {},
   "source": [
    "# class method, class member\n",
    " - OOP : 전역 변수와 전역 함수를 대체"
   ]
  },
  {
   "cell_type": "code",
   "execution_count": 21,
   "metadata": {},
   "outputs": [],
   "source": [
    "def func(a, b):\n",
    "    return a + b\n",
    "a = 10\n",
    "# 우리가 생각하는 전역 변수\n",
    "# oop는 사실 이런 것들을 극혐함!"
   ]
  },
  {
   "cell_type": "code",
   "execution_count": null,
   "metadata": {},
   "outputs": [],
   "source": [
    "# 일반적으로 지양하는 바\n",
    "def calc_age():\n",
    "    pass\n",
    "\n",
    "class Base:\n",
    "    # 전역 함수를 대체하기 위해서는\n",
    "    # 정적 메서드\n",
    "    @staticmethod\n",
    "    def calc_age(): # 아무 것도 받지 않음.\n",
    "        pass\n",
    "    \n",
    "    # 문법적으로 클래스 멤버 -> 모든 객체가 공유하는 데이터 => 동일한 값일 경우\n",
    "    x = 20\n",
    "    # 클래스 메서드 -> 대체 생성자를 만들 때 주로 쓰임\n",
    "    @classmethod\n",
    "    def class_method(cls): # cls는 class를 의미\n",
    "        pass\n",
    "    \n",
    "    # 생성자 (constructor) : 객체가 생성될 때 반드시 한번은 호출된다는 것을 보장\n",
    "    # 초기화 (initialization)\n",
    "    def __init__(self, a, b):\n",
    "        # instance member\n",
    "        # 객체마다 다른 데이터\n",
    "        self.a = a\n",
    "        self.b = b\n",
    "        \n",
    "    # 인스턴스 메서드\n",
    "    def instance_method(self, value):\n",
    "        self.a += value"
   ]
  },
  {
   "cell_type": "markdown",
   "metadata": {},
   "source": [
    "# 은행 계좌"
   ]
  },
  {
   "cell_type": "code",
   "execution_count": 122,
   "metadata": {},
   "outputs": [],
   "source": [
    "class Account:\n",
    "    # 클래스 멤버 -> 계좌 고객들이 공유하는 값\n",
    "    num_account = 0\n",
    "    \n",
    "    # 클래스 메서드\n",
    "    @classmethod\n",
    "    def get_number_account(cls):\n",
    "        return cls.num_account\n",
    "    \n",
    "    def __init__(self, user_name, init_money):\n",
    "        # 인스턴스 멤버\n",
    "        self.user = user_name\n",
    "        self.balance = init_money\n",
    "        # 클래스 멤버에 접근하는 방법\n",
    "        Account.num_account += 1\n",
    "        # self.num_account로도 선언 가능. 개인 취향\n",
    "        \n",
    "    def deposit(self, money):\n",
    "        if money <= 0:\n",
    "            return None\n",
    "        self.balance += money\n",
    "        print(\"{} : {}원이 입금되었습니다. 현재 잔액은 {}원입니다.\".format(self.user, money, self.balance))\n",
    "    \n",
    "    def withdraw(self, money):\n",
    "        if self.balance < money:\n",
    "            return None\n",
    "        self.balance -= money\n",
    "        print(\"{} : {}원이 인출되었습니다. 현재 잔액은 {}원입니다.\".format(self.user, money, self.balance))\n",
    "        return money\n",
    "        \n",
    "    # 프로그래머들은 한번 쓴 코드는 다시는 쓰지 않는다는 신념이 있다!\n",
    "    def transfer(self, other, money):\n",
    "        \"\"\"\n",
    "        # interface, 함수 시그니처\n",
    "        account.transfer(other, money) -> boolean\n",
    "        \"\"\"\n",
    "#         if self.balance < money:\n",
    "#             return None\n",
    "#         self.balance -= money\n",
    "#         other.deposit(money)\n",
    "        res = self.withdraw(money)\n",
    "        if res:\n",
    "            other.deposit(res)\n",
    "            print(\"<result>\\n{} : {}에게 {}원을 송금했습니다. 현재 잔액은 {}원입니다.\".format(self.user, other.user, money, self.balance))\n",
    "            return True\n",
    "        else:\n",
    "            return False\n",
    "        \n",
    "    def __str__(self):\n",
    "        return '{} : {}'.format(self.user, self.balance)"
   ]
  },
  {
   "cell_type": "markdown",
   "metadata": {},
   "source": [
    "### 객체가 만들어지지 않아도 (하나도)\n",
    "### 클래스 멤버나 클래스 메서드에 접근 가능"
   ]
  },
  {
   "cell_type": "code",
   "execution_count": 123,
   "metadata": {},
   "outputs": [
    {
     "data": {
      "text/plain": [
       "0"
      ]
     },
     "execution_count": 123,
     "metadata": {},
     "output_type": "execute_result"
    }
   ],
   "source": [
    "Account.num_account"
   ]
  },
  {
   "cell_type": "code",
   "execution_count": 124,
   "metadata": {},
   "outputs": [],
   "source": [
    "my_account = Account('greg', 3000)"
   ]
  },
  {
   "cell_type": "code",
   "execution_count": 125,
   "metadata": {},
   "outputs": [
    {
     "data": {
      "text/plain": [
       "1"
      ]
     },
     "execution_count": 125,
     "metadata": {},
     "output_type": "execute_result"
    }
   ],
   "source": [
    "my_account.num_account"
   ]
  },
  {
   "cell_type": "code",
   "execution_count": 126,
   "metadata": {},
   "outputs": [
    {
     "data": {
      "text/plain": [
       "1"
      ]
     },
     "execution_count": 126,
     "metadata": {},
     "output_type": "execute_result"
    }
   ],
   "source": [
    "Account.num_account"
   ]
  },
  {
   "cell_type": "code",
   "execution_count": 127,
   "metadata": {},
   "outputs": [],
   "source": [
    "your_account = Account('mark', 2000)"
   ]
  },
  {
   "cell_type": "code",
   "execution_count": 128,
   "metadata": {},
   "outputs": [
    {
     "data": {
      "text/plain": [
       "2"
      ]
     },
     "execution_count": 128,
     "metadata": {},
     "output_type": "execute_result"
    }
   ],
   "source": [
    "Account.num_account"
   ]
  },
  {
   "cell_type": "code",
   "execution_count": 129,
   "metadata": {},
   "outputs": [
    {
     "name": "stdout",
     "output_type": "stream",
     "text": [
      "greg : 1000원이 인출되었습니다. 현재 잔액은 2000원입니다.\n",
      "mark : 1000원이 입금되었습니다. 현재 잔액은 3000원입니다.\n",
      "<result>\n",
      "greg : mark에게 1000원을 송금했습니다. 현재 잔액은 2000원입니다.\n"
     ]
    },
    {
     "data": {
      "text/plain": [
       "True"
      ]
     },
     "execution_count": 129,
     "metadata": {},
     "output_type": "execute_result"
    }
   ],
   "source": [
    "my_account.transfer(your_account, 1000)"
   ]
  },
  {
   "cell_type": "code",
   "execution_count": 131,
   "metadata": {},
   "outputs": [
    {
     "data": {
      "text/plain": [
       "2"
      ]
     },
     "execution_count": 131,
     "metadata": {},
     "output_type": "execute_result"
    }
   ],
   "source": [
    "# 클래스 메서드 -> 객체들이 공유하는 메서드\n",
    "my_account.get_number_account()"
   ]
  },
  {
   "cell_type": "markdown",
   "metadata": {},
   "source": [
    "## OOP\n",
    " - 멤버는 모두 숨기고\n",
    " - 공개된 메서드로만 멤버에 접근\n",
    " - property"
   ]
  },
  {
   "cell_type": "code",
   "execution_count": null,
   "metadata": {},
   "outputs": [],
   "source": [
    "# C++ Code\n",
    "\n",
    "# include <iostream>\n",
    "using namespace std;\n",
    "\n",
    "class Account {\n",
    "    // 멤버, 메서드를 공개\n",
    "    public:\n",
    "        Account(int init_money) : balance(init_money){}\n",
    "    // 인스턴스 메서드\n",
    "    // 멤버에 접근 혹은 변경하는 함수는\n",
    "    // access function 이라고 부름(케터세터, getter setter)\n",
    "        int get_balance(){return balance;}\n",
    "        void set_balance()(int money){\n",
    "            if (money < 0) return;\n",
    "            balance = money;}\n",
    "        // instance member\n",
    "    private:\n",
    "    // information hiding (정보 은닉)\n",
    "        int balance;\n",
    "};\n",
    "\n",
    "int main(void) {\n",
    "    Account my_acnt(5000);\n",
    "    return 0\n",
    "}\n",
    "\n",
    "# 애초에 막는다는 의미로 처음부터 그렇게 설계를 해둠"
   ]
  },
  {
   "cell_type": "code",
   "execution_count": 132,
   "metadata": {},
   "outputs": [],
   "source": [
    "class Account():\n",
    "    def __init__(self, init_money):\n",
    "        self.balance = init_money"
   ]
  },
  {
   "cell_type": "code",
   "execution_count": 133,
   "metadata": {},
   "outputs": [],
   "source": [
    "my_account = Account(3000)"
   ]
  },
  {
   "cell_type": "code",
   "execution_count": 134,
   "metadata": {},
   "outputs": [
    {
     "data": {
      "text/plain": [
       "3000"
      ]
     },
     "execution_count": 134,
     "metadata": {},
     "output_type": "execute_result"
    }
   ],
   "source": [
    "my_account.balance"
   ]
  },
  {
   "cell_type": "markdown",
   "metadata": {},
   "source": [
    "# 파이썬의 정보 은닉\n"
   ]
  },
  {
   "cell_type": "markdown",
   "metadata": {},
   "source": [
    "## 1. name mangling : __  붙이는 방법"
   ]
  },
  {
   "cell_type": "code",
   "execution_count": 135,
   "metadata": {},
   "outputs": [],
   "source": [
    "class Account():\n",
    "    def __init__(self, init_money):\n",
    "        ## 파이썬이 이름만 바꿔서 저장을 시켜놓음...\n",
    "        # 규칙이 있음!\n",
    "        self.__balance = init_money"
   ]
  },
  {
   "cell_type": "code",
   "execution_count": 136,
   "metadata": {},
   "outputs": [],
   "source": [
    "my_account = Account(3000)"
   ]
  },
  {
   "cell_type": "code",
   "execution_count": 138,
   "metadata": {},
   "outputs": [
    {
     "ename": "AttributeError",
     "evalue": "'Account' object has no attribute '__balance'",
     "output_type": "error",
     "traceback": [
      "\u001b[1;31m---------------------------------------------------------------------------\u001b[0m",
      "\u001b[1;31mAttributeError\u001b[0m                            Traceback (most recent call last)",
      "\u001b[1;32m<ipython-input-138-d7970bc99aba>\u001b[0m in \u001b[0;36m<module>\u001b[1;34m()\u001b[0m\n\u001b[1;32m----> 1\u001b[1;33m \u001b[0mmy_account\u001b[0m\u001b[1;33m.\u001b[0m\u001b[0m__balance\u001b[0m\u001b[1;33m\u001b[0m\u001b[0m\n\u001b[0m",
      "\u001b[1;31mAttributeError\u001b[0m: 'Account' object has no attribute '__balance'"
     ]
    }
   ],
   "source": [
    "my_account.__balance"
   ]
  },
  {
   "cell_type": "code",
   "execution_count": 139,
   "metadata": {},
   "outputs": [
    {
     "data": {
      "text/plain": [
       "3000"
      ]
     },
     "execution_count": 139,
     "metadata": {},
     "output_type": "execute_result"
    }
   ],
   "source": [
    "my_account._Account__balance\n",
    "# 이거는 정보은닉이 아닌데...???"
   ]
  },
  {
   "cell_type": "markdown",
   "metadata": {},
   "source": [
    "## 2. property"
   ]
  },
  {
   "cell_type": "code",
   "execution_count": 157,
   "metadata": {},
   "outputs": [],
   "source": [
    "class Account():\n",
    "    def __init__(self, init_money):\n",
    "        self.__balance = init_money\n",
    "    \n",
    "    # getter\n",
    "    @property\n",
    "    def balance(self):\n",
    "        print('balance getter called')\n",
    "        return self.__balance\n",
    "    \n",
    "    # setter\n",
    "    @balance.setter\n",
    "    def balance(self, new_money):\n",
    "        if new_money < 0:\n",
    "            return None\n",
    "        else:\n",
    "            print('balance setter called')\n",
    "            self.__balance += new_money\n",
    "    \n",
    "    def get_balance(self):\n",
    "        return self.__balance\n",
    "    \n",
    "    def set_balance(self, new_money):\n",
    "        self.__balance = new_money"
   ]
  },
  {
   "cell_type": "code",
   "execution_count": 158,
   "metadata": {},
   "outputs": [],
   "source": [
    "my_account = Account(3000)"
   ]
  },
  {
   "cell_type": "code",
   "execution_count": 159,
   "metadata": {},
   "outputs": [
    {
     "data": {
      "text/plain": [
       "3000"
      ]
     },
     "execution_count": 159,
     "metadata": {},
     "output_type": "execute_result"
    }
   ],
   "source": [
    "my_account.get_balance()"
   ]
  },
  {
   "cell_type": "code",
   "execution_count": 160,
   "metadata": {},
   "outputs": [
    {
     "name": "stdout",
     "output_type": "stream",
     "text": [
      "balance getter called\n"
     ]
    },
    {
     "data": {
      "text/plain": [
       "3000"
      ]
     },
     "execution_count": 160,
     "metadata": {},
     "output_type": "execute_result"
    }
   ],
   "source": [
    "# 여기서부터 중요합니다.\n",
    "my_account.balance"
   ]
  },
  {
   "cell_type": "code",
   "execution_count": 161,
   "metadata": {},
   "outputs": [],
   "source": [
    "my_account.balance = -3000"
   ]
  },
  {
   "cell_type": "code",
   "execution_count": 162,
   "metadata": {},
   "outputs": [
    {
     "name": "stdout",
     "output_type": "stream",
     "text": [
      "balance getter called\n"
     ]
    },
    {
     "data": {
      "text/plain": [
       "3000"
      ]
     },
     "execution_count": 162,
     "metadata": {},
     "output_type": "execute_result"
    }
   ],
   "source": [
    "my_account.balance"
   ]
  },
  {
   "cell_type": "code",
   "execution_count": 163,
   "metadata": {},
   "outputs": [
    {
     "name": "stdout",
     "output_type": "stream",
     "text": [
      "balance getter called\n"
     ]
    },
    {
     "data": {
      "text/plain": [
       "-3000"
      ]
     },
     "execution_count": 163,
     "metadata": {},
     "output_type": "execute_result"
    }
   ],
   "source": [
    "# 완벽한 information hiding은 없다.\n",
    "my_account._Account__balance = -3000\n",
    "my_account.balance"
   ]
  },
  {
   "cell_type": "markdown",
   "metadata": {},
   "source": [
    "# 두번 쨰 테마\n",
    "# class relation"
   ]
  },
  {
   "cell_type": "markdown",
   "metadata": {},
   "source": [
    "## class 간의 관계를 다뤄보자\n",
    " - IS-A\n",
    "   - 상속 (Inheritance : OOP의 꽃[잘만 쓴다면])\n",
    "     - 최근에는 지양하자라는 움직임이 있다\n",
    " - HAS-A\n",
    "   - Composition (강한 커플링)\n",
    "   - Aggregation (약한 커플링)"
   ]
  },
  {
   "cell_type": "markdown",
   "metadata": {},
   "source": [
    "## IS-A\n",
    " - ~는 ~의 일종이다.\n",
    " - A laptop IS-A computer"
   ]
  },
  {
   "cell_type": "code",
   "execution_count": 164,
   "metadata": {},
   "outputs": [],
   "source": [
    "class Computer:\n",
    "    def __init__(self, cpu, ram):\n",
    "        self.cpu = cpu\n",
    "        self.ram = ram\n",
    "    def work(self):\n",
    "        print('work')\n",
    "    def browse(self):\n",
    "        print('browse')"
   ]
  },
  {
   "cell_type": "code",
   "execution_count": 178,
   "metadata": {},
   "outputs": [],
   "source": [
    "# 자식(sub) 클래스는 반드시 부모(super) 클래스의 모든 멤버와 메서드를 가지고 있어야 상속\n",
    "# {파생 : 자식, 기본 : 부모}\n",
    "# 상속을 하면 부모의 모든 멤버와 메서드를 가지게 된다\n",
    "# Code reusability (코드의 재사용성)\n",
    "class Laptop(Computer):\n",
    "    # 추가되는 멤버가 있을 때\n",
    "    def __init__(self, cpu, ram, battery):\n",
    "        super().__init__(cpu, ram)\n",
    "        self.battery = battery\n",
    "    \n",
    "    # 추가되는 메서드가 있을 때\n",
    "    def move(self, to):\n",
    "        print('move to {}'.format(to))"
   ]
  },
  {
   "cell_type": "code",
   "execution_count": 179,
   "metadata": {},
   "outputs": [],
   "source": [
    "notebook = Laptop('i5', '32GB', 'powerful')"
   ]
  },
  {
   "cell_type": "code",
   "execution_count": 180,
   "metadata": {},
   "outputs": [
    {
     "name": "stdout",
     "output_type": "stream",
     "text": [
      "work\n"
     ]
    }
   ],
   "source": [
    "notebook.work()"
   ]
  },
  {
   "cell_type": "code",
   "execution_count": 181,
   "metadata": {},
   "outputs": [
    {
     "name": "stdout",
     "output_type": "stream",
     "text": [
      "browse\n"
     ]
    }
   ],
   "source": [
    "notebook.browse()"
   ]
  },
  {
   "cell_type": "code",
   "execution_count": 182,
   "metadata": {},
   "outputs": [
    {
     "name": "stdout",
     "output_type": "stream",
     "text": [
      "move to 내 집\n"
     ]
    }
   ],
   "source": [
    "notebook.move('내 집')"
   ]
  },
  {
   "cell_type": "markdown",
   "metadata": {},
   "source": [
    "## HAS-A\n",
    " - ~이 ~를 가지고 있다.\n",
    " - A police-man HAS-A gun"
   ]
  },
  {
   "cell_type": "markdown",
   "metadata": {},
   "source": [
    "### composition (합성)\n",
    " - 객체의 생명 주기가 같을 때\n",
    " - 강하게 coupling 되어 있을 때"
   ]
  },
  {
   "cell_type": "code",
   "execution_count": 183,
   "metadata": {},
   "outputs": [],
   "source": [
    "class CPU:\n",
    "    pass\n",
    "class RAM:\n",
    "    pass\n",
    "class Computer:\n",
    "    def __init__(self):\n",
    "        # 멤버가 객체를 가지게 함.\n",
    "        self.cpu = CPU()\n",
    "        self.ram = RAM()"
   ]
  },
  {
   "cell_type": "code",
   "execution_count": 184,
   "metadata": {},
   "outputs": [],
   "source": [
    "com = Computer()"
   ]
  },
  {
   "cell_type": "code",
   "execution_count": 185,
   "metadata": {},
   "outputs": [],
   "source": [
    "del com"
   ]
  },
  {
   "cell_type": "markdown",
   "metadata": {},
   "source": [
    "### aggregation (집합, 통합)\n",
    " - \n",
    " - "
   ]
  },
  {
   "cell_type": "code",
   "execution_count": 192,
   "metadata": {},
   "outputs": [],
   "source": [
    "class Gun:\n",
    "    def __init__(self, kind):\n",
    "        self.kind = kind\n",
    "    def bang(self):\n",
    "        print(\"Bbang bbang\")"
   ]
  },
  {
   "cell_type": "code",
   "execution_count": 204,
   "metadata": {},
   "outputs": [],
   "source": [
    "class Police:\n",
    "    def __init__(self):\n",
    "        self.gun = None # 생성 시점에는 객체 X\n",
    "    def acquire_gun(self, gun):\n",
    "        self.gun = gun # 멤버가 Gun 객체를 가지는 시점\n",
    "    def release_gun(self):\n",
    "        gun = self.gun\n",
    "        self.gun = None # 멤버가 Gun 객체를 잃음\n",
    "        return gun # reference count\n",
    "    def shoot(self):\n",
    "        if self.gun:\n",
    "            self.gun.bang()\n",
    "        else:\n",
    "            print(\"Has not Gun\")"
   ]
  },
  {
   "cell_type": "code",
   "execution_count": 205,
   "metadata": {},
   "outputs": [],
   "source": [
    "new_police = Police()"
   ]
  },
  {
   "cell_type": "code",
   "execution_count": 206,
   "metadata": {},
   "outputs": [
    {
     "name": "stdout",
     "output_type": "stream",
     "text": [
      "Has not Gun\n"
     ]
    }
   ],
   "source": [
    "# 경찰이 생성되는 시점에 총은 생성되지 않은다.\n",
    "new_police.shoot()"
   ]
  },
  {
   "cell_type": "code",
   "execution_count": 207,
   "metadata": {},
   "outputs": [],
   "source": [
    "revolver = Gun('revolver')"
   ]
  },
  {
   "cell_type": "code",
   "execution_count": 208,
   "metadata": {},
   "outputs": [],
   "source": [
    "new_police.acquire_gun(revolver)\n",
    "revolver = None"
   ]
  },
  {
   "cell_type": "code",
   "execution_count": 209,
   "metadata": {},
   "outputs": [
    {
     "name": "stdout",
     "output_type": "stream",
     "text": [
      "Bbang bbang\n"
     ]
    }
   ],
   "source": [
    "new_police.shoot()"
   ]
  },
  {
   "cell_type": "code",
   "execution_count": 210,
   "metadata": {},
   "outputs": [],
   "source": [
    "revolver = new_police.release_gun()"
   ]
  },
  {
   "cell_type": "code",
   "execution_count": 211,
   "metadata": {},
   "outputs": [
    {
     "data": {
      "text/plain": [
       "<__main__.Gun at 0x1b5c0360c50>"
      ]
     },
     "execution_count": 211,
     "metadata": {},
     "output_type": "execute_result"
    }
   ],
   "source": [
    "revolver"
   ]
  },
  {
   "cell_type": "code",
   "execution_count": 212,
   "metadata": {},
   "outputs": [
    {
     "name": "stdout",
     "output_type": "stream",
     "text": [
      "Has not Gun\n"
     ]
    }
   ],
   "source": [
    "new_police.shoot()"
   ]
  },
  {
   "cell_type": "code",
   "execution_count": 213,
   "metadata": {},
   "outputs": [],
   "source": [
    "del revolver"
   ]
  },
  {
   "cell_type": "code",
   "execution_count": 214,
   "metadata": {},
   "outputs": [
    {
     "name": "stdout",
     "output_type": "stream",
     "text": [
      "Has not Gun\n"
     ]
    }
   ],
   "source": [
    "new_police.shoot()"
   ]
  },
  {
   "cell_type": "markdown",
   "metadata": {},
   "source": [
    "### class 설계가 어려운 이유는\n",
    "### class 간의 관계를 지정하는 것이 어려운 것!\n",
    "### IS-A, HAS-A만 알아도 어느정도는 수행할 수 있을 것!!"
   ]
  },
  {
   "cell_type": "markdown",
   "metadata": {},
   "source": [
    "## 다형성 (polymorphism)\n",
    " - 상속을 할 때!\n",
    " - 동일한 메서드를 호출하지만\n",
    " - 호출하는 (Invoke) 객체에 따라!!!!\n",
    " - 호출하는 메서드가 달라져서\n",
    " - 출력의 결과가 달라집니다."
   ]
  },
  {
   "cell_type": "markdown",
   "metadata": {},
   "source": [
    "## 메서드 오버라이딩!!\n",
    " - 상속을 받을 때\n",
    " - 자식 클래스에서 상속받은 부모의 클래스의 메서드를 변경할 때\n",
    " - 메서드를 재정의!!!!"
   ]
  },
  {
   "cell_type": "code",
   "execution_count": 215,
   "metadata": {},
   "outputs": [],
   "source": [
    "class CarOwner:\n",
    "    def __init__(self, name):\n",
    "        self.name = name\n",
    "    def concentrate(self):\n",
    "        print(\"{} concentrates !!\".format(self.name))"
   ]
  },
  {
   "cell_type": "code",
   "execution_count": 216,
   "metadata": {},
   "outputs": [],
   "source": [
    "# HAS-A\n",
    "class Car:\n",
    "    def __init__(self, owner_name):\n",
    "        self.owner = CarOwner(owner_name)\n",
    "    def drive(self):\n",
    "        self.owner.concentrate()\n",
    "        print(\"{}가 차를 운전하고 있습니다.\".format(self.owner.name)) # 좋은 방법은 아님"
   ]
  },
  {
   "cell_type": "code",
   "execution_count": 217,
   "metadata": {},
   "outputs": [],
   "source": [
    "# IS-A\n",
    "class SelfDrivingCar(Car):\n",
    "    # 상속받은 메서드의 기능, 행동이 달라질 때\n",
    "    # 재정의한다.\n",
    "    # method overriding\n",
    "    def drive(self):\n",
    "        print('주인은 놀고 있음. 스스로 운전 중!')"
   ]
  },
  {
   "cell_type": "code",
   "execution_count": 218,
   "metadata": {},
   "outputs": [],
   "source": [
    "# 다형성\n",
    "car1 = Car('mark')\n",
    "car2 = Car('greg')\n",
    "s_car = SelfDrivingCar('mary')"
   ]
  },
  {
   "cell_type": "code",
   "execution_count": 220,
   "metadata": {},
   "outputs": [],
   "source": [
    "cars = []\n",
    "cars.extend([car1, car2, s_car])"
   ]
  },
  {
   "cell_type": "code",
   "execution_count": 221,
   "metadata": {},
   "outputs": [
    {
     "data": {
      "text/plain": [
       "[<__main__.Car at 0x1b5c0359208>,\n",
       " <__main__.Car at 0x1b5c0359be0>,\n",
       " <__main__.SelfDrivingCar at 0x1b5c0359a58>]"
      ]
     },
     "execution_count": 221,
     "metadata": {},
     "output_type": "execute_result"
    }
   ],
   "source": [
    "cars"
   ]
  },
  {
   "cell_type": "code",
   "execution_count": 222,
   "metadata": {},
   "outputs": [
    {
     "name": "stdout",
     "output_type": "stream",
     "text": [
      "mark concentrates !!\n",
      "mark가 차를 운전하고 있습니다.\n",
      "greg concentrates !!\n",
      "greg가 차를 운전하고 있습니다.\n",
      "주인은 놀고 있음. 스스로 운전 중!\n"
     ]
    }
   ],
   "source": [
    "# 다형성 코드\n",
    "for car in cars:\n",
    "    car.drive() # 이 메서드가 모든 class에 있다는 보장이 있어야 한다"
   ]
  },
  {
   "cell_type": "markdown",
   "metadata": {},
   "source": [
    "# 추상 클래스, 추상 메서드"
   ]
  },
  {
   "cell_type": "code",
   "execution_count": 230,
   "metadata": {},
   "outputs": [],
   "source": [
    "# 이 세상에 그냥 동물은 없다는 것을 표현하고 싶어!\n",
    "# =>> Animal 객체는 못 만들게 하고 싶다!\n",
    "\n",
    "# 추상 클래스 -> 객체를 만들 수 없다.\n",
    "# 반드시 하나 이상의 추상 메서드를 가져야 한다.\n",
    "# 추상 메서드 => 메서드의 몸체가 없다. %%%%%%%\n",
    "# 추상 클래스를 상속받는 자식 클래스는 \n",
    "# 반드시 추상 메서드를 재정의 해야 한다!!!!!!(오버라이딩 해야 한다.)\n",
    "## 이걸 통해서 얻는 이점은?\n",
    "## Animal 클래스를 상속받고 만약 객체를 만들 수 있다면\n",
    "## eat 메서드를 반드시 가지는 걸 보장\n",
    "\n",
    "from abc import ABCMeta, abstractmethod\n",
    "# abstract basic class\n",
    "class Animal(metaclass=ABCMeta):\n",
    "    # 강제적으로 interface를 만들어버림.\n",
    "    @abstractmethod\n",
    "    def eat(self):\n",
    "        print('Eat something')\n",
    "# IS-A\n",
    "class Lion(Animal):\n",
    "    # 만일 객체를 만들 수 있다면 eat method를 보장받을 수 있다!\n",
    "    def eat(self):\n",
    "        print('Eat meat')\n",
    "class Deer(Animal):\n",
    "    def eat(self):\n",
    "        print('Eat grass')\n",
    "class Human(Animal):\n",
    "    def eat(self):\n",
    "        print('Eat meat & grass')"
   ]
  },
  {
   "cell_type": "code",
   "execution_count": 231,
   "metadata": {},
   "outputs": [
    {
     "name": "stdout",
     "output_type": "stream",
     "text": [
      "Eat meat\n",
      "Eat grass\n",
      "Eat meat & grass\n"
     ]
    }
   ],
   "source": [
    "animals = []\n",
    "animals.extend([Lion(), Deer(),Human()])\n",
    "for animal in animals:\n",
    "    animal.eat() # 같은 코드, But 결과는 다르다"
   ]
  },
  {
   "cell_type": "code",
   "execution_count": 233,
   "metadata": {},
   "outputs": [
    {
     "ename": "TypeError",
     "evalue": "Can't instantiate abstract class Animal with abstract methods eat",
     "output_type": "error",
     "traceback": [
      "\u001b[1;31m---------------------------------------------------------------------------\u001b[0m",
      "\u001b[1;31mTypeError\u001b[0m                                 Traceback (most recent call last)",
      "\u001b[1;32m<ipython-input-233-b97af3166666>\u001b[0m in \u001b[0;36m<module>\u001b[1;34m()\u001b[0m\n\u001b[1;32m----> 1\u001b[1;33m \u001b[0mAnimal\u001b[0m\u001b[1;33m(\u001b[0m\u001b[1;33m)\u001b[0m\u001b[1;33m\u001b[0m\u001b[0m\n\u001b[0m",
      "\u001b[1;31mTypeError\u001b[0m: Can't instantiate abstract class Animal with abstract methods eat"
     ]
    }
   ],
   "source": [
    "Animal()"
   ]
  },
  {
   "cell_type": "code",
   "execution_count": 234,
   "metadata": {},
   "outputs": [],
   "source": [
    "# 최상위 클래스에\n",
    "# 모든 자식 클래스 인스턴스가 가져야 하는\n",
    "# 메서드를 모두 추상 메서드로 만들어 두고\n",
    "\n",
    "class Monster(metaclass=ABCMeta):\n",
    "    @abstractmethod\n",
    "    def attack(self, player):\n",
    "        pass"
   ]
  },
  {
   "cell_type": "code",
   "execution_count": 235,
   "metadata": {},
   "outputs": [],
   "source": [
    "class IceMonster(Monster):\n",
    "    def attack(self, player):\n",
    "        print(\"다쳐!\")\n",
    "class FireMonster(Monster):\n",
    "    def attack(self, player):\n",
    "        print(\"너도 다쳐!!\")"
   ]
  },
  {
   "cell_type": "code",
   "execution_count": 237,
   "metadata": {},
   "outputs": [],
   "source": [
    "class Zombie(Monster):\n",
    "    def attack(self, player):\n",
    "        print(\"주인공 싫엉ㅠㅠ\")"
   ]
  },
  {
   "cell_type": "code",
   "execution_count": 238,
   "metadata": {},
   "outputs": [],
   "source": [
    "# 랜더링\n",
    "monsters = []\n",
    "monsters.append(IceMonster())\n",
    "monsters.append(FireMonster())\n",
    "monsters.append(Zombie())"
   ]
  },
  {
   "cell_type": "code",
   "execution_count": 240,
   "metadata": {},
   "outputs": [
    {
     "name": "stdout",
     "output_type": "stream",
     "text": [
      "다쳐!\n",
      "너도 다쳐!!\n",
      "주인공 싫엉ㅠㅠ\n"
     ]
    }
   ],
   "source": [
    "for monster in monsters:\n",
    "    monster.attack('주인공')"
   ]
  },
  {
   "cell_type": "markdown",
   "metadata": {},
   "source": [
    "## 클래스 계층 설계 원칙\n",
    " - 공통되는 멤버나 메서드가 자주 등장하면 \n",
    " - 새로운 부모 클래스를 만들고 공통의 멤버, 메서드 구현\n",
    " - 자식은 상속만 받고 자기의 멤버, 메서드만 구현"
   ]
  },
  {
   "cell_type": "code",
   "execution_count": null,
   "metadata": {},
   "outputs": [],
   "source": [
    "class Animal:\n",
    "    pass\n",
    "class BigCat(Animal):\n",
    "    # 공통된 멤버, 메서드 다 구현\n",
    "class Lion(BigCat):\n",
    "    # 사자만 가지는 멤버, 메서드 구현\n",
    "class Tiger(BigCat):\n",
    "    # 호랑이만 가지는 멤버, 메서드 구현"
   ]
  },
  {
   "cell_type": "markdown",
   "metadata": {},
   "source": [
    "## 추상 클래스를 제외,\n",
    "## 만약에 자식 클래스가 부모로부터 상속받은\n",
    "## 많은 메서드를 오버라이딩한다면\n",
    "## 잘못된 것임"
   ]
  },
  {
   "cell_type": "code",
   "execution_count": null,
   "metadata": {},
   "outputs": [],
   "source": [
    "1. class 관계 설계\n",
    "2. class 계층 설계\n",
    ">> design pattern도 공부한다면 괜찮은 결과물이 나올 것\n",
    "\n",
    "대규모의 결과물은 oop로 구현 중.\n",
    "절차 지향은... 읍읍"
   ]
  }
 ],
 "metadata": {
  "kernelspec": {
   "display_name": "Python 3",
   "language": "python",
   "name": "python3"
  },
  "language_info": {
   "codemirror_mode": {
    "name": "ipython",
    "version": 3
   },
   "file_extension": ".py",
   "mimetype": "text/x-python",
   "name": "python",
   "nbconvert_exporter": "python",
   "pygments_lexer": "ipython3",
   "version": "3.6.5"
  }
 },
 "nbformat": 4,
 "nbformat_minor": 2
}
